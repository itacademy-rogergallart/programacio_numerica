{
  "nbformat": 4,
  "nbformat_minor": 0,
  "metadata": {
    "colab": {
      "name": "Tasca4_programacio_numerica.ipynb",
      "provenance": [],
      "authorship_tag": "ABX9TyMtuiYxwa+oGRyoI0KrUqff"
    },
    "kernelspec": {
      "name": "python3",
      "display_name": "Python 3"
    },
    "language_info": {
      "name": "python"
    }
  },
  "cells": [
    {
      "cell_type": "markdown",
      "metadata": {
        "id": "V3zlFn0zswlE"
      },
      "source": [
        "# Tasca 4: Programació numèrica\n",
        "\n",
        "Roger Gallart\n",
        "\n",
        "20 Abril 2021"
      ]
    },
    {
      "cell_type": "markdown",
      "metadata": {
        "id": "pNi_ZnsEswfM"
      },
      "source": [
        "## Nivell 1\n",
        "\n",
        "### Exercici 1\n",
        "Crea una funció que donat un Array d’una dimensió, et faci un resum estadístic bàsic de les dades. Si detecta que l’array té més d’una dimensió, ha de mostrar un missatge d’error."
      ]
    },
    {
      "cell_type": "markdown",
      "metadata": {
        "id": "i8JOCGAnswbP"
      },
      "source": [
        "### Exercici 2\n",
        "Crea una funció que et generi un quadrat NxN de nombres aleatoris entre el 0 i el 100."
      ]
    },
    {
      "cell_type": "markdown",
      "metadata": {
        "id": "46roPfEzswXH"
      },
      "source": [
        "### Exercici 3\n",
        "Crea una funció que donada una taula de dues dimensions, et calculi els totals per fila i els totals per columna."
      ]
    },
    {
      "cell_type": "markdown",
      "metadata": {
        "id": "nFFZlwCqswUh"
      },
      "source": [
        "### Exercici 4\n",
        "Implementa manualment una funció que calculi el coeficient de correlació. Informa’t-en sobre els seus usos i interpretació."
      ]
    }
  ]
}