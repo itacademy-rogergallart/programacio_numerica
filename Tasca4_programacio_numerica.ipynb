{
  "nbformat": 4,
  "nbformat_minor": 0,
  "metadata": {
    "colab": {
      "name": "Tasca4_programacio_numerica.ipynb",
      "provenance": [],
      "authorship_tag": "ABX9TyPd1Lc3yBKRXQLRQFJyVYZt"
    },
    "kernelspec": {
      "name": "python3",
      "display_name": "Python 3"
    },
    "language_info": {
      "name": "python"
    }
  },
  "cells": [
    {
      "cell_type": "markdown",
      "metadata": {
        "id": "V3zlFn0zswlE"
      },
      "source": [
        "# Tasca 4: Programació numèrica\n",
        "\n",
        "Roger Gallart\n",
        "\n",
        "20 Abril 2021"
      ]
    },
    {
      "cell_type": "code",
      "metadata": {
        "id": "TXckzLvGyd97"
      },
      "source": [
        "import numpy as np\n",
        "from scipy import stats"
      ],
      "execution_count": 90,
      "outputs": []
    },
    {
      "cell_type": "markdown",
      "metadata": {
        "id": "pNi_ZnsEswfM"
      },
      "source": [
        "## Nivell 1\n",
        "\n",
        "### Exercici 1\n",
        "Crea una funció que donat un Array d’una dimensió, et faci un resum estadístic bàsic de les dades. Si detecta que l’array té més d’una dimensió, ha de mostrar un missatge d’error."
      ]
    },
    {
      "cell_type": "code",
      "metadata": {
        "id": "5IUl66Cxyhvs"
      },
      "source": [
        "def resum_estadistic(array):\n",
        "  '''\n",
        "  Retorna un resum estadístic bàsic de les dades del vector (ndarray 1D).\n",
        "  Paràmetres:\n",
        "    vector (ndarray 1D)\n",
        "  Retorna:\n",
        "    resum (Diccionari)\n",
        "    missatge d'error si dimensió és > 1D\n",
        "  '''\n",
        "\n",
        "  if array.ndim > 1:\n",
        "    return 'Error: el paràmetre d\\'entrada no pot tenir més de una dimensió'\n",
        "  \n",
        "  return stats.describe(array) # Utilitzem el mòdul stats de Scipy\n"
      ],
      "execution_count": 91,
      "outputs": []
    },
    {
      "cell_type": "code",
      "metadata": {
        "colab": {
          "base_uri": "https://localhost:8080/"
        },
        "id": "swoCnR4T0Cai",
        "outputId": "e5277c64-a3e3-4a4a-f93d-6c06e1a474ab"
      },
      "source": [
        "# Test 1\n",
        "test1 = np.random.randn(10,) # 1D, Standard normal distribution, 10 elements\n",
        "print(f'test1:\\n {test1}')\n",
        "print(f'Resum estadistic de test1:\\n',resum_estadistic(test1))\n",
        "\n",
        "# Test 2\n",
        "test2 = np.random.randn(10,10) # 2D\n",
        "print(f'\\ntest2:\\n {test2}')\n",
        "print(f'Resum estadistic de test1:\\n',resum_estadistic(test2))\n"
      ],
      "execution_count": 92,
      "outputs": [
        {
          "output_type": "stream",
          "text": [
            "test1:\n",
            " [ 1.27737871  0.34300937 -1.10752024  0.72730169  0.26763647 -1.19339417\n",
            "  1.24158984  0.10363987  0.29625393 -0.71448884]\n",
            "Resum estadistic de test1:\n",
            " DescribeResult(nobs=10, minmax=(-1.1933941748937, 1.277378705957841), mean=0.1241406604086027, variance=0.7774641967444894, skewness=-0.2696460382453283, kurtosis=-1.1059838151440071)\n",
            "\n",
            "test2:\n",
            " [[-3.12650029e-01  6.26793738e-01 -1.02545425e-02 -5.51561531e-01\n",
            "  -1.59818356e+00 -8.49847331e-01  6.92342300e-01  4.82092638e-01\n",
            "   1.23591318e+00 -1.91054265e-01]\n",
            " [ 9.47902086e-01 -2.49788799e-01  2.16333750e+00  1.87705668e-01\n",
            "   1.00666596e+00  2.32360139e-01  1.51464823e-03  3.43097431e-01\n",
            "  -3.49414417e-01  3.66664254e-01]\n",
            " [-1.50985509e-01 -3.78611130e-01  1.87609750e-01 -9.01206617e-01\n",
            "  -1.09886117e+00  7.64313239e-01 -2.53482436e-01 -1.29850903e+00\n",
            "   1.36862302e+00 -1.19485678e+00]\n",
            " [-2.65952652e-01  6.03170653e-01  2.02316040e-01 -3.46251210e-01\n",
            "   1.20474511e+00 -9.36795221e-01 -7.98122039e-01 -3.63573016e-01\n",
            "   7.15081322e-01 -5.51872063e-01]\n",
            " [-8.47706430e-01 -8.66699728e-01  1.08271078e+00  3.99840502e-02\n",
            "  -5.07940407e-01  4.08727274e-02 -1.52942326e+00 -1.53867559e+00\n",
            "   5.13128856e-01 -1.45779898e-01]\n",
            " [ 1.70114705e-01  6.39284651e-01  3.19648250e-01 -1.67522857e+00\n",
            "   2.95692426e-01  1.26485100e+00 -1.98473296e-01  3.37397549e-01\n",
            "  -9.27670742e-01  8.11283964e-02]\n",
            " [ 7.88143234e-01 -1.55163954e+00 -1.01603499e+00 -4.39820905e-01\n",
            "  -5.17310616e-01  3.34134257e-01  7.89670165e-02 -2.09549591e+00\n",
            "  -4.30490876e-01 -6.46766585e-01]\n",
            " [-2.01063038e-01  3.34384659e-01 -8.38530960e-01  1.32776568e+00\n",
            "   3.77475061e-01 -2.55725934e-01 -1.70475888e+00 -4.87692564e-01\n",
            "   5.18007775e-01  2.00643714e-02]\n",
            " [ 1.63714436e-01  1.51658362e+00  6.72901104e-01 -4.04629030e-01\n",
            "  -8.48423007e-01  8.56001059e-01 -5.06131925e-02 -1.18640420e-01\n",
            "   4.46938211e-02  8.20928323e-01]\n",
            " [ 1.85536215e-01  1.37785250e+00  3.22957904e-01 -8.91273889e-01\n",
            "   1.38288032e+00 -2.05396499e-01  8.84969934e-01  1.24344847e+00\n",
            "   1.50999546e+00  5.40714288e-02]]\n",
            "Resum estadistic de test1:\n",
            " Error: el paràmetre d'entrada no pot tenir més de una dimensió\n"
          ],
          "name": "stdout"
        }
      ]
    },
    {
      "cell_type": "markdown",
      "metadata": {
        "id": "i8JOCGAnswbP"
      },
      "source": [
        "### Exercici 2\n",
        "Crea una funció que et generi un quadrat NxN de nombres aleatoris entre el 0 i el 100."
      ]
    },
    {
      "cell_type": "code",
      "metadata": {
        "id": "eLblAs2owQP6"
      },
      "source": [
        "def matriu_aleatoria(N):\n",
        "  '''\n",
        "  Genera una matriu 2D (ndarray) de NxN nombres enters aleatoris entre 0 i 100\n",
        "  seguint una distribució unifome\n",
        "  '''\n",
        "  return np.random.randint(0,101,size=(N,N)) \n",
        "  # Posem 101 perquè aquesta funció de numpy no inclou el límit superior"
      ],
      "execution_count": 93,
      "outputs": []
    },
    {
      "cell_type": "code",
      "metadata": {
        "colab": {
          "base_uri": "https://localhost:8080/"
        },
        "id": "ivCbwNucxQyw",
        "outputId": "b88789cc-4e2f-4d1d-d8fc-9e073183b9f6"
      },
      "source": [
        "# Test\n",
        "for N in range(1,5):\n",
        "  print(f'Matriu aleatòria de {N}x{N}:')\n",
        "  print(matriu_aleatoria(N),'\\n')"
      ],
      "execution_count": 94,
      "outputs": [
        {
          "output_type": "stream",
          "text": [
            "Matriu aleatòria de 1x1:\n",
            "[[7]] \n",
            "\n",
            "Matriu aleatòria de 2x2:\n",
            "[[71 82]\n",
            " [75 87]] \n",
            "\n",
            "Matriu aleatòria de 3x3:\n",
            "[[33 45 62]\n",
            " [21 34 31]\n",
            " [ 1 63 21]] \n",
            "\n",
            "Matriu aleatòria de 4x4:\n",
            "[[44  1  2 13]\n",
            " [43 27 15 88]\n",
            " [41 60 22  9]\n",
            " [75  1 29 55]] \n",
            "\n"
          ],
          "name": "stdout"
        }
      ]
    },
    {
      "cell_type": "markdown",
      "metadata": {
        "id": "46roPfEzswXH"
      },
      "source": [
        "### Exercici 3\n",
        "Crea una funció que donada una taula de dues dimensions, et calculi els totals per fila i els totals per columna."
      ]
    },
    {
      "cell_type": "code",
      "metadata": {
        "id": "4Ghh2d_1t8oA"
      },
      "source": [
        "def totals(matriu):\n",
        "  '''\n",
        "  Donada una matriu numèrica, calcula els totals per cada fila i per cada columna\n",
        "  \n",
        "  Paràmetres:\n",
        "    matriu (ndarray de 2D)\n",
        "  \n",
        "  Retorna:\n",
        "    totals_files (ndarray de 1D)\n",
        "    totals_columnes (ndarray de 1D)\n",
        "  '''\n",
        "\n",
        "  totals_files = np.sum(matriu, axis=1)\n",
        "  totals_columnes = np.sum(matriu, axis=0)\n",
        "\n",
        "  return totals_files, totals_columnes"
      ],
      "execution_count": 95,
      "outputs": []
    },
    {
      "cell_type": "code",
      "metadata": {
        "colab": {
          "base_uri": "https://localhost:8080/"
        },
        "id": "OAUfpPwlu7x4",
        "outputId": "b896b60d-d5f3-4d81-d060-1cd2d8fd68ab"
      },
      "source": [
        "# Test\n",
        "test = matriu_aleatoria(6) #Utilitzem la funció de l'exercici 2\n",
        "resultat = totals(test)\n",
        "\n",
        "print(f'Matriu de test:\\n {test}')\n",
        "print(f'\\nTotals de cada fila: {resultat[0]}')\n",
        "print(f'\\nTotals de cada columna: {resultat[1]}')"
      ],
      "execution_count": 96,
      "outputs": [
        {
          "output_type": "stream",
          "text": [
            "Matriu de test:\n",
            " [[66 61 87 60 27 72]\n",
            " [18  9 30 56 98  0]\n",
            " [ 8 95 81 22 17 59]\n",
            " [96 74 50 64 67 99]\n",
            " [ 5 51 10 33 57 53]\n",
            " [ 9 52 53 94  3 38]]\n",
            "\n",
            "Totals de cada fila: [373 211 282 450 209 249]\n",
            "\n",
            "Totals de cada columna: [202 342 311 329 269 321]\n"
          ],
          "name": "stdout"
        }
      ]
    },
    {
      "cell_type": "markdown",
      "metadata": {
        "id": "nFFZlwCqswUh"
      },
      "source": [
        "### Exercici 4\n",
        "Implementa manualment una funció que calculi el coeficient de correlació. Informa’t-en sobre els seus usos i interpretació."
      ]
    },
    {
      "cell_type": "code",
      "metadata": {
        "id": "LNvo9b3s4GED"
      },
      "source": [
        "def coef_correlacio(x,y):\n",
        "  '''\n",
        "  Calcula manualment el coeficient de correlació de Pearson de 2 variables x i y\n",
        "  Formula: r = cov(x,y)/(s_x*s_y) essent:\n",
        "    - cov(x,y) la covariança entre x i y\n",
        "    - s_x i s_y la desviació estandar de x i y respectivament\n",
        "\n",
        "  Paràmetres:\n",
        "    x, y: vectors (ndarray 1D) amb N elements\n",
        "  \n",
        "  Retorna:\n",
        "    r: coeficient de correlació de Pearson\n",
        "  '''\n",
        "\n",
        "  # Nombre de elements de la mostra\n",
        "  N = len(x)\n",
        "\n",
        "  # Mitjana mostral\n",
        "  avg_x = np.sum(x)/N\n",
        "  avg_y = np.sum(y)/N\n",
        "\n",
        "  # Desviació estándar mostral (Graus de Llibertat = 1 --> Dividim per N-1)\n",
        "  s_x = np.sqrt(np.sum((x-avg_x)**2)/(N-1))  \n",
        "  s_y = np.sqrt(np.sum((y-avg_y)**2)/(N-1))\n",
        "\n",
        "  # Covariança\n",
        "  cov_xy = np.sum(np.multiply(x-avg_x,y-avg_y))/(N-1)\n",
        "\n",
        "  # Coefficient de correlació\n",
        "  r = cov_xy/(s_x*s_y)\n",
        "  \n",
        "  return r"
      ],
      "execution_count": 97,
      "outputs": []
    },
    {
      "cell_type": "code",
      "metadata": {
        "colab": {
          "base_uri": "https://localhost:8080/"
        },
        "id": "lgyvAvmtAmwQ",
        "outputId": "655323a3-1f76-435a-8c0c-70f8505ad51d"
      },
      "source": [
        "# Test 1 - Correlació entre 2 vectors alreatoris x i y\n",
        "\n",
        "x = np.random.randn(10,) # 1D, Standard normal distribution, 10 elements\n",
        "y = np.random.randn(10,) # 1D, Standard normal distribution, 10 elements\n",
        "print(f'x:\\n {x}')\n",
        "print(f'y:\\n {y}')\n",
        "print(f'\\nEl coeficient de correlació entre x i y usant la nostra funció: {coef_correlacio(x,y)}')\n",
        "print(f'El coeficient de correlació entre x i y usant la funció de numpy: {np.corrcoef(x,y)[0,1]}')\n"
      ],
      "execution_count": 98,
      "outputs": [
        {
          "output_type": "stream",
          "text": [
            "x:\n",
            " [ 0.68034425  0.83388918  0.52442922 -0.35939249 -1.15076663 -1.29984124\n",
            "  0.03071062  0.65187744 -1.26054198  0.2283436 ]\n",
            "y:\n",
            " [ 1.71121592  0.08319077  0.47212565 -0.75073587  1.36381399  0.29820203\n",
            "  0.46611847 -1.64837324  0.98631234 -0.09683166]\n",
            "\n",
            "El coeficient de correlació entre x i y usant la nostra funció: -0.292337720687766\n",
            "El coeficient de correlació entre x i y usant la funció de numpy: -0.2923377206877659\n"
          ],
          "name": "stdout"
        }
      ]
    },
    {
      "cell_type": "code",
      "metadata": {
        "colab": {
          "base_uri": "https://localhost:8080/"
        },
        "id": "Dfx7N58c8oM2",
        "outputId": "810cdcb5-ae87-4aa8-9350-7bc9d55a51a6"
      },
      "source": [
        "# Test 2 Correlació d'un vector amb ell mateix ha de ser 1\n",
        "\n",
        "x = np.random.randn(10,) # 1D, Standard normal distribution, 10 elements\n",
        "print(f'x:\\n {x}')\n",
        "print(f'\\nEl coeficient de correlació de x amb ell mateix usant la nostra funció: {coef_correlacio(x,x)}')\n",
        "print(f'El coeficient de correlació de x amb ell mateix usant la funció de numpy: {np.corrcoef(x,x)[0,1]}')\n"
      ],
      "execution_count": 99,
      "outputs": [
        {
          "output_type": "stream",
          "text": [
            "x:\n",
            " [-1.65353823  0.63733434 -0.53664276 -0.79887467  2.23471298  0.02825244\n",
            "  0.27977452  0.60508622  1.2094965   2.34815578]\n",
            "\n",
            "El coeficient de correlació de x amb ell mateix usant la nostra funció: 1.0000000000000002\n",
            "El coeficient de correlació de x amb ell mateix usant la funció de numpy: 1.0\n"
          ],
          "name": "stdout"
        }
      ]
    }
  ]
}